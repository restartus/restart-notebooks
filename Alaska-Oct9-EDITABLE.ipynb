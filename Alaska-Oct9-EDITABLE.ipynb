{
 "cells": [
  {
   "cell_type": "markdown",
   "metadata": {},
   "source": [
    "# Alaska PPE Forecasting\n",
    "## Editable View\n",
    "This document provides direct access to the underlying data informing the projections. In addition to using sliders to adjust stockpile days, you can edit burn rate assumptions and rerun the model on the spot.\n",
    "\n",
    "We provide detailed annotations of how to adjust model parameters for readers that might not have experience in programming or the Python programming language. However, if you do have a programming background, we expose our source code here for even more interactivity and editability. Simply use the button below to toggle on/off the raw code.\n",
    "\n",
    "This is an alpha version of this view, so there are a couple extra steps to get started:\n",
    "\n",
    "1. In the menu above, click on the `Kernel` button. A drop-down menu will appear; click `Restart and Run All`.\n",
    "2. This will trigger a prompt asking you if you want to restart the kernel and re-run the whole notebook. Click the red button, `Restart and Run All Cells`. If errors begin to occur at any point, repeat this step of `Restart and Run All Cells`.\n",
    "\n",
    "At this point, setup is complete."
   ]
  },
  {
   "cell_type": "code",
   "execution_count": 1,
   "metadata": {},
   "outputs": [
    {
     "data": {
      "text/html": [
       "<script>\n",
       "code_show=true; \n",
       "function code_toggle() {\n",
       " if (code_show){\n",
       " $('div.input').hide();\n",
       " } else {\n",
       " $('div.input').show();\n",
       " }\n",
       " code_show = !code_show\n",
       "} \n",
       "$( document ).ready(code_toggle);\n",
       "</script>\n",
       "<form action=\"javascript:code_toggle()\"><input type=\"submit\" value=\"Click here to toggle on/off the raw code.\"></form>"
      ],
      "text/plain": [
       "<IPython.core.display.HTML object>"
      ]
     },
     "execution_count": 1,
     "metadata": {},
     "output_type": "execute_result"
    }
   ],
   "source": [
    "from IPython.display import HTML\n",
    "\n",
    "HTML('''<script>\n",
    "code_show=true; \n",
    "function code_toggle() {\n",
    " if (code_show){\n",
    " $('div.input').hide();\n",
    " } else {\n",
    " $('div.input').show();\n",
    " }\n",
    " code_show = !code_show\n",
    "} \n",
    "$( document ).ready(code_toggle);\n",
    "</script>\n",
    "<form action=\"javascript:code_toggle()\"><input type=\"submit\" value=\"Click here to toggle on/off the raw code.\"></form>''')"
   ]
  },
  {
   "cell_type": "markdown",
   "metadata": {},
   "source": [
    "# Editable Burn Rates\n",
    "Click in the table below to adjust burn rate assumptions for any resource. Once your edits are done, hit `Enter`, and then click the `Run Model` button to adjust projections for all models below."
   ]
  },
  {
   "cell_type": "code",
   "execution_count": 2,
   "metadata": {},
   "outputs": [],
   "source": [
    "import os\n",
    "import pathlib\n",
    "import restart\n",
    "\n",
    "# need this ugly variable for now to directly access config\n",
    "PATH = pathlib.Path(restart.__file__).parent.absolute()"
   ]
  },
  {
   "cell_type": "code",
   "execution_count": 3,
   "metadata": {},
   "outputs": [],
   "source": [
    "import sys\n",
    "import pandas as pd\n",
    "import numpy as np\n",
    "from restart import RestartModel\n",
    "from restart import Data\n",
    "from restart.util import set_config, to_df, to_sheet, display_population, format_population, format_cells\n",
    "from restart import util\n",
    "from IPython.display import Javascript, display\n",
    "import ipywidgets as widgets\n",
    "import bqplot\n",
    "from bqplot import pyplot as plt\n",
    "import qgrid\n",
    "import pathlib\n",
    "\n",
    "qgrid.set_grid_option('forceFitColumns', False)\n",
    "PATH = pathlib.Path(restart.__file__).parent.absolute()\n",
    "\n",
    "def run_all(ev):\n",
    "    display(Javascript('IPython.notebook.execute_cell_range(IPython.notebook.get_selected_index()+1, \\\n",
    "                        IPython.notebook.ncells())'))\n",
    "    \n",
    "def create_run_button(description):\n",
    "    button = widgets.Button(description=description)\n",
    "    button.on_click(run_all)\n",
    "    return button\n",
    "\n",
    "restart = RestartModel(population='oes', state='Alaska')\n",
    "model = restart.model\n",
    "\n",
    "burn_df = model.demand.demand_per_unit_map_dn_um.df\n",
    "burn_df.index.name = \"Population\"\n",
    "\n",
    "burn_rates = qgrid.show_grid(burn_df)"
   ]
  },
  {
   "cell_type": "code",
   "execution_count": 4,
   "metadata": {},
   "outputs": [
    {
     "data": {
      "application/vnd.jupyter.widget-view+json": {
       "model_id": "5a09167caa8d45438814fba0b9335cc5",
       "version_major": 2,
       "version_minor": 0
      },
      "text/plain": [
       "Button(description='Run Model', style=ButtonStyle())"
      ]
     },
     "metadata": {},
     "output_type": "display_data"
    },
    {
     "data": {
      "application/vnd.jupyter.widget-view+json": {
       "model_id": "ed568c482d034197b769be94cbaafb6c",
       "version_major": 2,
       "version_minor": 0
      },
      "text/plain": [
       "VBox(children=(QgridWidget(grid_options={'fullWidthRows': True, 'syncColumnCellResize': True, 'forceFitColumns…"
      ]
     },
     "metadata": {},
     "output_type": "display_data"
    }
   ],
   "source": [
    "display(create_run_button(\"Run Model\"))\n",
    "widgets.VBox([burn_rates])"
   ]
  },
  {
   "cell_type": "code",
   "execution_count": 5,
   "metadata": {},
   "outputs": [
    {
     "data": {
      "application/vnd.jupyter.widget-view+json": {
       "model_id": "fd631c06b74846a6bc5e25c3ce1a8c93",
       "version_major": 2,
       "version_minor": 0
      },
      "text/plain": [
       "VBox(children=(VBox(children=(Figure(axes=[Axis(label='Resource', scale=OrdinalScale()), Axis(orientation='ver…"
      ]
     },
     "metadata": {},
     "output_type": "display_data"
    }
   ],
   "source": [
    "# get updated burn rates\n",
    "new_arr = burn_rates.get_changed_df().to_numpy()\n",
    "model.demand.adjust_burn(new_arr)\n",
    "\n",
    "# charting \n",
    "burn_chart = util.generate_group_bar_legend(model.demand.demand_per_unit_map_dn_um.df)\n",
    "widgets.VBox([burn_chart])"
   ]
  },
  {
   "cell_type": "markdown",
   "metadata": {},
   "source": [
    "# General Population Forecast"
   ]
  },
  {
   "cell_type": "code",
   "execution_count": 6,
   "metadata": {},
   "outputs": [
    {
     "data": {
      "application/vnd.jupyter.widget-view+json": {
       "model_id": "9750962b70ea44219dc3b8371a4754c1",
       "version_major": 2,
       "version_minor": 0
      },
      "text/plain": [
       "VBox(children=(IntSlider(value=30, continuous_update=False, description='Days', max=120, min=1), Output()))"
      ]
     },
     "metadata": {},
     "output_type": "display_data"
    }
   ],
   "source": [
    "import sys\n",
    "import pandas as pd\n",
    "import numpy as np\n",
    "from restart import RestartModel\n",
    "from restart import Data\n",
    "from restart.util import set_config, to_df, to_sheet, display_population, format_population, format_cells\n",
    "import ipywidgets as widgets\n",
    "import bqplot\n",
    "from bqplot import pyplot as plt\n",
    "\n",
    "model.inventory.set_average_orders_per_period(model.demand.demand_by_popsum1_total_rp1n_tc)\n",
    "\n",
    "slider = widgets.IntSlider(min=1, max=120, value=30, description = \"Days\", continuous_update=False)\n",
    "\n",
    "def dashboard(backstop):\n",
    "    set_stock(backstop)\n",
    "    \n",
    "def display_stock(df):\n",
    "    df_round = df.round()\n",
    "    index_name = \"Population\"\n",
    "    headers = ['Essential', 'Non-Essential']\n",
    "    df_round.insert(loc=0, column=index_name, value=headers)\n",
    "    sheet = to_sheet(df_round)\n",
    "    format_cells(sheet)\n",
    "    sheet.row_headers = False\n",
    "    df_chart = df\n",
    "    df_chart.index = df_chart.index.get_level_values(1)\n",
    "    chart = util.generate_group_bar_legend(df_chart, scientific_notation=True)\n",
    "    display(sheet)\n",
    "    display(chart)\n",
    "    \n",
    "def set_stock(backstop):\n",
    "    backstop = [backstop]\n",
    "    model.inventory.order(model.inventory.inv_by_popsum1_total_rp1n_tc)\n",
    "    model.inventory.set_min_in_periods(backstop)\n",
    "    display_stock(model.inventory.inv_by_popsum1_total_rp1n_tc.df)\n",
    "    \n",
    "wa_burn_sheet = format_population(to_sheet(model.demand.demand_per_unit_map_dn_um.df))\n",
    "pop = format_population(to_sheet(model.population.population_pP_tr.df))\n",
    "    \n",
    "out = widgets.interactive_output(dashboard, {'backstop': slider})\n",
    "widgets.VBox([slider, out])"
   ]
  },
  {
   "cell_type": "markdown",
   "metadata": {},
   "source": [
    "# Healthcare Workers Forecast"
   ]
  },
  {
   "cell_type": "code",
   "execution_count": 7,
   "metadata": {},
   "outputs": [
    {
     "data": {
      "application/vnd.jupyter.widget-view+json": {
       "model_id": "81063d2305ab4f3db8dcd807861d3916",
       "version_major": 2,
       "version_minor": 0
      },
      "text/plain": [
       "VBox(children=(IntSlider(value=30, continuous_update=False, description='Days', max=120, min=1), Output()))"
      ]
     },
     "metadata": {},
     "output_type": "display_data"
    }
   ],
   "source": [
    "def dashboard_h(backstop):\n",
    "    set_stock_h(backstop)\n",
    "    \n",
    "def set_stock_h(backstop):\n",
    "    backstop = [backstop]\n",
    "    model_health.inventory.order(model_health.inventory.inv_by_popsum1_total_rp1n_tc)\n",
    "    model_health.inventory.set_min_in_periods(backstop)\n",
    "    display_stock(model_health.inventory.inv_by_popsum1_total_rp1n_tc.df)\n",
    "    \n",
    "restart_health = RestartModel(population='oes', state='Alaska', subpop='healthcare')\n",
    "model_health = restart_health.model\n",
    "pop_health = format_population(to_sheet(model_health.population.population_pP_tr.df))\n",
    "\n",
    "# get updated burn rates\n",
    "model_health.demand.adjust_burn(new_arr)\n",
    "\n",
    "model_health.inventory.set_average_orders_per_period(model_health.demand.demand_by_popsum1_total_rp1n_tc)\n",
    "\n",
    "slider_health = widgets.IntSlider(min=1, max=120, value=30, description = \"Days\", continuous_update=False)\n",
    "out_health = widgets.interactive_output(dashboard_h, {'backstop': slider_health})\n",
    "\n",
    "widgets.VBox([slider_health, out_health])"
   ]
  },
  {
   "cell_type": "markdown",
   "metadata": {},
   "source": [
    "# First Responders Forecast"
   ]
  },
  {
   "cell_type": "code",
   "execution_count": null,
   "metadata": {},
   "outputs": [],
   "source": []
  },
  {
   "cell_type": "code",
   "execution_count": 8,
   "metadata": {},
   "outputs": [
    {
     "data": {
      "application/vnd.jupyter.widget-view+json": {
       "model_id": "5e2de46e98a241d8bb5e923f1f31b68a",
       "version_major": 2,
       "version_minor": 0
      },
      "text/plain": [
       "VBox(children=(IntSlider(value=30, continuous_update=False, description='Days', max=120, min=1), Output()))"
      ]
     },
     "metadata": {},
     "output_type": "display_data"
    }
   ],
   "source": [
    "def dashboard_fr(backstop):\n",
    "    set_stock_fr(backstop)\n",
    "    \n",
    "def set_stock_fr(backstop):\n",
    "    backstop = [backstop]\n",
    "    model_fr.inventory.order(model_fr.inventory.inv_by_popsum1_total_rp1n_tc)\n",
    "    model_fr.inventory.set_min_in_periods(backstop)\n",
    "    display_stock(model_fr.inventory.inv_by_popsum1_total_rp1n_tc.df)\n",
    "    \n",
    "restart_fr = RestartModel(population='oes', state='Alaska', subpop='wa_tier2_opt2')\n",
    "model_fr = restart_fr.model\n",
    "pop_fr = format_population(to_sheet(model_fr.population.population_pP_tr.df))\n",
    "\n",
    "# get updated burn rates\n",
    "model_fr.demand.adjust_burn(new_arr)\n",
    "\n",
    "model_fr.inventory.set_average_orders_per_period(model_fr.demand.demand_by_popsum1_total_rp1n_tc)\n",
    "\n",
    "slider_fr = widgets.IntSlider(min=1, max=120, value=30, description = \"Days\", continuous_update=False)\n",
    "out_fr = widgets.interactive_output(dashboard_fr, {'backstop': slider_fr})\n",
    "\n",
    "widgets.VBox([slider_fr, out_fr])"
   ]
  }
 ],
 "metadata": {
  "kernelspec": {
   "display_name": "Python 3",
   "language": "python",
   "name": "python3"
  },
  "language_info": {
   "codemirror_mode": {
    "name": "ipython",
    "version": 3
   },
   "file_extension": ".py",
   "mimetype": "text/x-python",
   "name": "python",
   "nbconvert_exporter": "python",
   "pygments_lexer": "ipython3",
   "version": "3.8.6"
  }
 },
 "nbformat": 4,
 "nbformat_minor": 4
}
