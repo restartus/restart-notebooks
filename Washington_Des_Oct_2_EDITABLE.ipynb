{
 "cells": [
  {
   "cell_type": "markdown",
   "metadata": {},
   "source": [
    "# Washington PPE Forecasting\n",
    "## Editable View\n",
    "This document provides direct access to the underlying data informing the projections. In addition to using sliders to adjust stockpile days, you can edit burn rate assumptions and rerun the model on the spot.\n",
    "\n",
    "We provide detailed annotations of how to adjust model parameters for readers that might not have experience in programming or the Python programming language. However, if you do have a programming background, we expose our source code here for even more interactivity and editability. Simply use the button below to toggle on/off the raw code.\n",
    "\n",
    "This is an alpha version of this view, so there are a couple extra steps to get started:\n",
    "\n",
    "1. In the menu above, click on the `Kernel` button. A drop-down menu will appear; click `Restart and Run All`.\n",
    "2. This will trigger a prompt asking you if you want to restart the kernel and re-run the whole notebook. Click the red button, `Restart and Run All Cells`. If errors begin to occur at any point, repeat this step of `Restart and Run All Cells`.\n",
    "\n",
    "At this point, setup is complete."
   ]
  },
  {
   "cell_type": "code",
   "execution_count": 1,
   "metadata": {},
   "outputs": [
    {
     "data": {
      "text/html": [
       "<script>\n",
       "code_show=true; \n",
       "function code_toggle() {\n",
       " if (code_show){\n",
       " $('div.input').hide();\n",
       " } else {\n",
       " $('div.input').show();\n",
       " }\n",
       " code_show = !code_show\n",
       "} \n",
       "$( document ).ready(code_toggle);\n",
       "</script>\n",
       "<form action=\"javascript:code_toggle()\"><input type=\"submit\" value=\"Click here to toggle on/off the raw code.\"></form>"
      ],
      "text/plain": [
       "<IPython.core.display.HTML object>"
      ]
     },
     "execution_count": 1,
     "metadata": {},
     "output_type": "execute_result"
    }
   ],
   "source": [
    "from IPython.display import HTML\n",
    "\n",
    "HTML('''<script>\n",
    "code_show=true; \n",
    "function code_toggle() {\n",
    " if (code_show){\n",
    " $('div.input').hide();\n",
    " } else {\n",
    " $('div.input').show();\n",
    " }\n",
    " code_show = !code_show\n",
    "} \n",
    "$( document ).ready(code_toggle);\n",
    "</script>\n",
    "<form action=\"javascript:code_toggle()\"><input type=\"submit\" value=\"Click here to toggle on/off the raw code.\"></form>''')"
   ]
  },
  {
   "cell_type": "code",
   "execution_count": 2,
   "metadata": {},
   "outputs": [],
   "source": [
    "import os\n",
    "import sys\n",
    "import qgrid\n",
    "import pathlib\n",
    "import restart\n",
    "import numpy as np\n",
    "import pandas as pd\n",
    "from ipywidgets import widgets\n",
    "from restart import RestartModel\n",
    "from restart import Data\n",
    "from restart_datasets import data\n",
    "from IPython.display import Javascript, display\n",
    "from restart import util\n",
    "from restart.util import set_config, to_df, to_sheet, display_population, format_population, format_cells\n",
    "from restart_datasets import data\n",
    "import ipywidgets as widgets\n",
    "import bqplot\n",
    "from bqplot import pyplot as plt\n",
    "\n",
    "qgrid.set_grid_option('forceFitColumns', False)\n",
    "PATH = pathlib.Path(restart.__file__).parent.absolute()\n",
    "\n",
    "def run_all(ev):\n",
    "    display(Javascript('IPython.notebook.execute_cell_range(IPython.notebook.get_selected_index()+1, \\\n",
    "                        IPython.notebook.ncells())'))\n",
    "    \n",
    "def create_run_button(description):\n",
    "    button = widgets.Button(description=description)\n",
    "    button.on_click(run_all)\n",
    "    return button\n",
    "\n",
    "gr_restart = RestartModel(\n",
    "    config='wa_groups',\n",
    "    population='oes',\n",
    "    state='Washington',\n",
    "    subpop='wa_groupings'\n",
    ")\n",
    "\n",
    "gr_model = gr_restart.model\n",
    "gr_model.inventory.set_average_orders_per_period(gr_model.demand.demand_by_popsum1_total_rp1n_tc)\n",
    "\n",
    "wa_burn_sheet = format_population(to_sheet(gr_model.demand.demand_per_unit_map_dn_um.df))\n",
    "gr_pop = format_population(to_sheet(gr_model.population.population_pP_tr.df))\n",
    "    \n",
    "\n",
    "burn_df = gr_model.demand.demand_per_unit_map_dn_um.df\n",
    "burn_df.index.name = \"Population\"\n",
    "\n",
    "burn_rates = qgrid.show_grid(burn_df)"
   ]
  },
  {
   "cell_type": "markdown",
   "metadata": {},
   "source": [
    "# Washington Burn Rates\n",
    "Click on any of the cells below to adjust burn rate assumptions. When you're done, hit `Enter` and click the `Run Model` button and the updated model will be generated below (you'll have to scroll down a bit to see it). "
   ]
  },
  {
   "cell_type": "code",
   "execution_count": 3,
   "metadata": {},
   "outputs": [
    {
     "data": {
      "application/vnd.jupyter.widget-view+json": {
       "model_id": "372c58cfe6484e4bb553384b670d0c75",
       "version_major": 2,
       "version_minor": 0
      },
      "text/plain": [
       "Button(description='Run Model', style=ButtonStyle())"
      ]
     },
     "metadata": {},
     "output_type": "display_data"
    },
    {
     "data": {
      "application/vnd.jupyter.widget-view+json": {
       "model_id": "1f9b6a7bdff24d81b7a69b4c9a70c958",
       "version_major": 2,
       "version_minor": 0
      },
      "text/plain": [
       "VBox(children=(QgridWidget(grid_options={'fullWidthRows': True, 'syncColumnCellResize': True, 'forceFitColumns…"
      ]
     },
     "metadata": {},
     "output_type": "display_data"
    }
   ],
   "source": [
    "display(create_run_button(\"Run Model\"))\n",
    "widgets.VBox([burn_rates])"
   ]
  },
  {
   "cell_type": "markdown",
   "metadata": {},
   "source": [
    "## Burn Rate Visualization"
   ]
  },
  {
   "cell_type": "code",
   "execution_count": 4,
   "metadata": {},
   "outputs": [
    {
     "data": {
      "application/vnd.jupyter.widget-view+json": {
       "model_id": "ae99ba786ee1420e848115f7b348ffed",
       "version_major": 2,
       "version_minor": 0
      },
      "text/plain": [
       "VBox(children=(VBox(children=(Figure(axes=[Axis(label='Resource', scale=OrdinalScale()), Axis(orientation='ver…"
      ]
     },
     "metadata": {},
     "output_type": "display_data"
    }
   ],
   "source": [
    "# get updated burn rates\n",
    "gr_model.demand.adjust_burn(burn_rates.get_changed_df().to_numpy())\n",
    "\n",
    "# charting \n",
    "burn_chart = util.generate_group_bar_legend(gr_model.demand.demand_per_unit_map_dn_um.df)\n",
    "widgets.VBox([burn_chart])"
   ]
  },
  {
   "cell_type": "markdown",
   "metadata": {},
   "source": [
    "## Selected First Responders"
   ]
  },
  {
   "cell_type": "code",
   "execution_count": 5,
   "metadata": {},
   "outputs": [
    {
     "data": {
      "application/vnd.jupyter.widget-view+json": {
       "model_id": "fc81e734da7b4afc8cc4ca29f5785e16",
       "version_major": 2,
       "version_minor": 0
      },
      "text/plain": [
       "VBox(children=(VBox(children=(Figure(axes=[Axis(label='Resource', scale=OrdinalScale()), Axis(orientation='ver…"
      ]
     },
     "metadata": {},
     "output_type": "display_data"
    }
   ],
   "source": [
    "def gr_dashboard(backstop):\n",
    "    gr_set_stock(backstop)\n",
    "    \n",
    "def gr_display_stock(df):\n",
    "    df_round = df.round()\n",
    "    index_name = \"Population\"\n",
    "    headers = ['EMTs', 'Firefighters', 'Other Public Safety']\n",
    "    df_round.insert(loc=0, column=index_name, value=headers)\n",
    "    sheet = to_sheet(df_round)\n",
    "    format_cells(sheet)\n",
    "    sheet.row_headers = False\n",
    "    df_chart = df\n",
    "    df_chart.index = df_chart.index.get_level_values(1)\n",
    "    chart = util.generate_group_bar_legend(df_chart, scientific_notation=True)\n",
    "    display(sheet)\n",
    "    display(chart)\n",
    "    \n",
    "def gr_set_stock(backstop):\n",
    "    backstop = [backstop]\n",
    "    gr_model.inventory.order(gr_model.inventory.inv_by_popsum1_total_rp1n_tc)\n",
    "    gr_model.inventory.set_min_in_periods(backstop)\n",
    "    gr_display_stock(gr_model.inventory.inv_by_popsum1_total_rp1n_tc.df)\n",
    "    \n",
    "gr_slider = widgets.IntSlider(min=1, max=120, value=30, description = \"Days\", continuous_update=False)\n",
    "gr_out = widgets.interactive_output(gr_dashboard, {'backstop': gr_slider})\n",
    "gr_sum_sheet = format_population(to_sheet(gr_model.population.pop_to_popsum1_per_unit_map_pp1_us.df))\n",
    "\n",
    "widgets.VBox([burn_chart, gr_slider, gr_out])"
   ]
  },
  {
   "cell_type": "markdown",
   "metadata": {},
   "source": [
    "## Selected Healthcare Populations"
   ]
  },
  {
   "cell_type": "code",
   "execution_count": 6,
   "metadata": {},
   "outputs": [
    {
     "data": {
      "application/vnd.jupyter.widget-view+json": {
       "model_id": "8adc8945bedb423e92128deb1c683c6a",
       "version_major": 2,
       "version_minor": 0
      },
      "text/plain": [
       "VBox(children=(IntSlider(value=30, continuous_update=False, description='Days', max=120, min=1), Output()))"
      ]
     },
     "metadata": {},
     "output_type": "display_data"
    }
   ],
   "source": [
    "restart = RestartModel(config='des', population='oes', state='Washington', subpop='wa_tier2_opt2')\n",
    "model = restart.model\n",
    "model.inventory.set_average_orders_per_period(model.demand.demand_by_popsum1_total_rp1n_tc)\n",
    "\n",
    "slider = widgets.IntSlider(min=1, max=120, value=30, description = \"Days\", continuous_update=False)\n",
    "\n",
    "def dashboard(backstop):\n",
    "    set_stock(backstop)\n",
    "    \n",
    "def display_stock(df):\n",
    "    df_round = df.round()\n",
    "    index_name = \"Population\"\n",
    "    headers = ['Essential', 'Non-Essential']\n",
    "    df_round.insert(loc=0, column=index_name, value=headers)\n",
    "    sheet = to_sheet(df_round)\n",
    "    format_cells(sheet)\n",
    "    sheet.row_headers = False\n",
    "    df_chart = df\n",
    "    df_chart.index = df_chart.index.get_level_values(1)\n",
    "    chart = util.generate_group_bar_legend(df_chart, scientific_notation=True)\n",
    "    display(sheet)\n",
    "    display(chart)\n",
    "    \n",
    "def set_stock(backstop):\n",
    "    backstop = [backstop]\n",
    "    model.inventory.order(model.inventory.inv_by_popsum1_total_rp1n_tc)\n",
    "    model.inventory.set_min_in_periods(backstop)\n",
    "    display_stock(model.inventory.inv_by_popsum1_total_rp1n_tc.df)\n",
    "\n",
    "pop = format_population(to_sheet(model.population.population_pP_tr.df))\n",
    "\n",
    "burn_chart = util.generate_group_bar_legend(model.demand.demand_per_unit_map_dn_um.df)\n",
    "out = widgets.interactive_output(dashboard, {'backstop': slider})\n",
    "\n",
    "pop = format_population(to_sheet(model.population.population_pP_tr.df))\n",
    "\n",
    "widgets.VBox([slider, out])"
   ]
  }
 ],
 "metadata": {
  "kernelspec": {
   "display_name": "Python 3",
   "language": "python",
   "name": "python3"
  },
  "language_info": {
   "codemirror_mode": {
    "name": "ipython",
    "version": 3
   },
   "file_extension": ".py",
   "mimetype": "text/x-python",
   "name": "python",
   "nbconvert_exporter": "python",
   "pygments_lexer": "ipython3",
   "version": "3.8.5"
  }
 },
 "nbformat": 4,
 "nbformat_minor": 4
}
