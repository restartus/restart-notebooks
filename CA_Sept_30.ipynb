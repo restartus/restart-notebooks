{
 "cells": [
  {
   "cell_type": "markdown",
   "metadata": {},
   "source": [
    "# California PPE Projections \n",
    "## Editable View\n",
    "This document provides direct access to the underlying data informing the projections. In addition to using sliders to adjust stockpile days, you can edit burn rate assumptions and rerun the model on the spot.\n",
    "\n",
    "We provide detailed annotations of how to adjust model parameters for readers that might not have experience in programming or the Python programming language. However, if you do have a programming background, we expose our source code here for even more interactivity and editability. Simply use the button below to toggle on/off the raw code.\n",
    "\n",
    "This is an alpha version of this view, so there are a couple extra steps to get started:\n",
    "\n",
    "1. In the menu above, click on the `Kernel` button. A drop-down menu will appear; click `Restart and Run All`.\n",
    "2. This will trigger a prompt asking you if you want to restart the kernel and re-run the whole notebook. Click the red button, `Restart and Run All Cells`.\n",
    "\n",
    "At this point, setup is complete."
   ]
  },
  {
   "cell_type": "code",
   "execution_count": 1,
   "metadata": {},
   "outputs": [
    {
     "data": {
      "text/html": [
       "<script>\n",
       "code_show=true; \n",
       "function code_toggle() {\n",
       " if (code_show){\n",
       " $('div.input').hide();\n",
       " } else {\n",
       " $('div.input').show();\n",
       " }\n",
       " code_show = !code_show\n",
       "} \n",
       "$( document ).ready(code_toggle);\n",
       "</script>\n",
       "<form action=\"javascript:code_toggle()\"><input type=\"submit\" value=\"Click here to toggle on/off the raw code.\"></form>"
      ],
      "text/plain": [
       "<IPython.core.display.HTML object>"
      ]
     },
     "execution_count": 1,
     "metadata": {},
     "output_type": "execute_result"
    }
   ],
   "source": [
    "from IPython.display import HTML\n",
    "\n",
    "HTML('''<script>\n",
    "code_show=true; \n",
    "function code_toggle() {\n",
    " if (code_show){\n",
    " $('div.input').hide();\n",
    " } else {\n",
    " $('div.input').show();\n",
    " }\n",
    " code_show = !code_show\n",
    "} \n",
    "$( document ).ready(code_toggle);\n",
    "</script>\n",
    "<form action=\"javascript:code_toggle()\"><input type=\"submit\" value=\"Click here to toggle on/off the raw code.\"></form>''')"
   ]
  },
  {
   "cell_type": "code",
   "execution_count": 2,
   "metadata": {},
   "outputs": [],
   "source": [
    "import os\n",
    "import sys\n",
    "import qgrid\n",
    "import pathlib\n",
    "import restart\n",
    "import numpy as np\n",
    "import pandas as pd\n",
    "from ipywidgets import widgets\n",
    "from restart import RestartModel\n",
    "from restart import Data\n",
    "from restart_datasets import data\n",
    "from IPython.display import Javascript, display\n",
    "from restart import util\n",
    "from restart.util import set_config, to_df, to_sheet, display_population, format_population, format_cells\n",
    "from restart_datasets import data\n",
    "import ipywidgets as widgets\n",
    "import bqplot\n",
    "from bqplot import pyplot as plt\n",
    "\n",
    "qgrid.set_grid_option('forceFitColumns', False)\n",
    "PATH = pathlib.Path(restart.__file__).parent.absolute()\n",
    "\n",
    "\n",
    "def run_all(ev):\n",
    "    display(Javascript('IPython.notebook.execute_cell_range(IPython.notebook.get_selected_index()+1, \\\n",
    "                        IPython.notebook.ncells())'))\n",
    "    \n",
    "def create_run_button(description):\n",
    "    button = widgets.Button(description=description)\n",
    "    button.on_click(run_all)\n",
    "    return button\n",
    "\n",
    "config = set_config(os.path.join(PATH, 'config/ca-vent'))\n",
    "restart = RestartModel(config='ca-vent', population='dict')\n",
    "model = restart.model\n",
    "\n",
    "burn_df = model.demand.demand_per_unit_map_dn_um.df\n",
    "burn_df.index.name = \"Population\"\n",
    "\n",
    "burn_rates = qgrid.show_grid(burn_df)"
   ]
  },
  {
   "cell_type": "markdown",
   "metadata": {},
   "source": [
    "# California Memo Burn Rates\n",
    "Click on any of the cells below to adjust burn rate assumptions. When you're done, click the `Run Model` button and the updated model will be generated below (you'll have to scroll down a bit to see it). "
   ]
  },
  {
   "cell_type": "code",
   "execution_count": 3,
   "metadata": {},
   "outputs": [
    {
     "data": {
      "application/vnd.jupyter.widget-view+json": {
       "model_id": "b12062c90d6a4c1da18a310f4420643c",
       "version_major": 2,
       "version_minor": 0
      },
      "text/plain": [
       "Button(description='Run Model', style=ButtonStyle())"
      ]
     },
     "metadata": {},
     "output_type": "display_data"
    },
    {
     "data": {
      "application/vnd.jupyter.widget-view+json": {
       "model_id": "585028b5917c40d59d3ab5f44522f7d0",
       "version_major": 2,
       "version_minor": 0
      },
      "text/plain": [
       "VBox(children=(QgridWidget(grid_options={'fullWidthRows': True, 'syncColumnCellResize': True, 'forceFitColumns…"
      ]
     },
     "metadata": {},
     "output_type": "display_data"
    }
   ],
   "source": [
    "display(create_run_button(\"Run Model\"))\n",
    "widgets.VBox([burn_rates])"
   ]
  },
  {
   "cell_type": "code",
   "execution_count": 4,
   "metadata": {},
   "outputs": [],
   "source": [
    "import ipywidgets as widgets\n",
    "from scipy.stats import norm\n",
    "import math\n",
    "\n",
    "# get updated burn rates\n",
    "model.demand.adjust_burn(burn_rates.get_changed_df().to_numpy())\n",
    "\n",
    "# charting \n",
    "burn_chart = util.generate_group_bar_legend(model.demand.demand_per_unit_map_dn_um.df)\n",
    "\n",
    "ca_epi_df = data.epi_ranges()\n",
    "ca_epi_df.set_index('Model', drop=True, inplace=True)\n",
    "\n",
    "ca_epi_df = ca_epi_df * 4.12\n",
    "ca_epi_df.columns = ['Population Low', 'Population Mid', 'Population High']\n",
    "ca_stdev = ca_epi_df.apply(\n",
    "    lambda row: util.triangular(\n",
    "        row['Population Mid'],\n",
    "        row['Population Low'], \n",
    "        row['Population High']\n",
    "    ), axis=1\n",
    ")\n",
    "\n",
    "ca_epi_df['Population Mean'] = ca_epi_df.mean(axis=1)\n",
    "ca_epi_df['Population SD'] = ca_stdev\n",
    "\n",
    "\n",
    "def calc_eoq(df, cr):\n",
    "    Z=norm.ppf(cr)\n",
    "    df['Adjusted Population'] = df['Population Mean'] + (Z * df['Population SD'])\n",
    "    return df\n",
    "\n",
    "def display_ca_eoq(cr, days):\n",
    "    # calculate the hospitalization EOQ\n",
    "    epi = calc_eoq(ca_epi_df, cr)\n",
    "    eoq_df = 0.243 * epi\n",
    "    # adjusting the non-COVID patients\n",
    "    eoq_sheet = to_sheet(eoq_df)\n",
    "    display_population(eoq_sheet, round=True)\n",
    "    # calculate stockpile projections\n",
    "    preds_df = Data(\n",
    "        \"demand_by_pop_total_pn_tc\", config)\n",
    "    preds_df.array = (model.demand.demand_by_pop_per_person_pn_uc.array.T * ca_epi_df[\"Adjusted Population\"].to_numpy().T).T\n",
    "    preds_df.array *= days\n",
    "    preds_df.df.drop(['Ventilators'], axis=1, inplace=True)\n",
    "    preds_sheet = to_sheet(preds_df.df)\n",
    "    chart = util.generate_group_bar_legend(preds_df.df, scientific_notation=True)\n",
    "    display_population(preds_sheet, round=True)\n",
    "    display(chart)\n",
    "    \n",
    "ca_burn_sheet = format_population(to_sheet(model.demand.demand_per_unit_map_dn_um.df))\n",
    "\n",
    "ca_cr_slider = widgets.FloatSlider(min=0.70,max=0.99,step=0.01,value=0.95, continuous_update=False, description=\"CR\")\n",
    "ca_day_slider = widgets.IntSlider(min=1, max=120, value=30, continuous_update=False, description=\"Days\")\n",
    "ca_out = widgets.interactive_output(display_ca_eoq, {'cr': ca_cr_slider, 'days': ca_day_slider})"
   ]
  },
  {
   "cell_type": "code",
   "execution_count": 5,
   "metadata": {},
   "outputs": [
    {
     "data": {
      "application/vnd.jupyter.widget-view+json": {
       "model_id": "33ab253fe4dc4faf81df05a4a1c6389a",
       "version_major": 2,
       "version_minor": 0
      },
      "text/plain": [
       "VBox(children=(FloatSlider(value=0.95, continuous_update=False, description='CR', max=0.99, min=0.7, step=0.01…"
      ]
     },
     "metadata": {},
     "output_type": "display_data"
    }
   ],
   "source": [
    "widgets.VBox([ca_cr_slider, ca_day_slider, ca_out, burn_chart])"
   ]
  },
  {
   "cell_type": "markdown",
   "metadata": {},
   "source": [
    "## OES Model\n",
    "Populations gathered from Bureau of Labor Statistics May 2019 reporting. Stockpile projections calculated using Washington burn rate assumptions, shown below. Individual occupations (denoted by SOC codes) are mapped to one of 7 protection levels, where `WA0` represents a hypothetical person who requires no protection, and `WA6` a front-line healthcare worker with frequent exposure to COVID-19."
   ]
  },
  {
   "cell_type": "code",
   "execution_count": 6,
   "metadata": {},
   "outputs": [],
   "source": [
    "oes_restart = RestartModel(\n",
    "    population='oes',\n",
    "    state='California',\n",
    "    subpop='healthcare')\n",
    "oes_model = oes_restart.model\n",
    "\n",
    "oes_burn_df = oes_model.demand.demand_per_unit_map_dn_um.df\n",
    "oes_burn_df.index.name = \"Population\"\n",
    "oes_burn_chart = util.generate_group_bar_legend(oes_model.demand.demand_per_unit_map_dn_um.df)\n",
    "\n",
    "oes_burn_rates = qgrid.show_grid(oes_burn_df)"
   ]
  },
  {
   "cell_type": "code",
   "execution_count": 7,
   "metadata": {},
   "outputs": [
    {
     "data": {
      "application/vnd.jupyter.widget-view+json": {
       "model_id": "037647c0727f4a1ba3b84a885c6842f8",
       "version_major": 2,
       "version_minor": 0
      },
      "text/plain": [
       "Button(description='Run Model', style=ButtonStyle())"
      ]
     },
     "metadata": {},
     "output_type": "display_data"
    },
    {
     "data": {
      "application/vnd.jupyter.widget-view+json": {
       "model_id": "a17fb1afdd4848fbb171b73cc77f819f",
       "version_major": 2,
       "version_minor": 0
      },
      "text/plain": [
       "VBox(children=(QgridWidget(grid_options={'fullWidthRows': True, 'syncColumnCellResize': True, 'forceFitColumns…"
      ]
     },
     "metadata": {},
     "output_type": "display_data"
    }
   ],
   "source": [
    "display(create_run_button(\"Run Model\"))\n",
    "widgets.VBox([oes_burn_rates])"
   ]
  },
  {
   "cell_type": "code",
   "execution_count": 8,
   "metadata": {},
   "outputs": [
    {
     "data": {
      "application/vnd.jupyter.widget-view+json": {
       "model_id": "b236c46c1a3f4b04a85fa4851c5d112a",
       "version_major": 2,
       "version_minor": 0
      },
      "text/plain": [
       "VBox(children=(IntSlider(value=30, continuous_update=False, description='Days', max=120, min=1), Output(), VBo…"
      ]
     },
     "metadata": {},
     "output_type": "display_data"
    }
   ],
   "source": [
    "oes_model.demand.adjust_burn(oes_burn_rates.get_changed_df().to_numpy())\n",
    "oes_slider = widgets.IntSlider(min=1, max=120, value=30, description = \"Days\", continuous_update=False)\n",
    "\n",
    "def dashboard(backstop):\n",
    "    set_stock(backstop)\n",
    "    \n",
    "def display_stock(df):\n",
    "    df_round = df.round()\n",
    "    index_name = \"Population\"\n",
    "    headers = ['Essential', 'Non-Essential']\n",
    "    df_round.insert(loc=0, column=index_name, value=headers)\n",
    "    sheet = to_sheet(df_round)\n",
    "    format_cells(sheet)\n",
    "    sheet.row_headers = False\n",
    "    df_chart = df\n",
    "    df_chart.index = df_chart.index.get_level_values(1)\n",
    "    chart = util.generate_group_bar_legend(df_chart, scientific_notation=True)\n",
    "    display(sheet)\n",
    "    display(chart)\n",
    "    \n",
    "def set_stock(backstop):\n",
    "    oes_model.inventory.set_average_orders_per_period(oes_model.demand.demand_by_popsum1_total_rp1n_tc)\n",
    "    backstop = [backstop]\n",
    "    oes_model.inventory.order(oes_model.inventory.inv_by_popsum1_total_rp1n_tc)\n",
    "    oes_model.inventory.set_min_in_periods(backstop)\n",
    "    display_stock(oes_model.inventory.inv_by_popsum1_total_rp1n_tc.df)\n",
    "    \n",
    "oes_pop = format_population(to_sheet(oes_model.population.population_pP_tr.df))\n",
    "oes_out = widgets.interactive_output(dashboard, {'backstop': oes_slider})\n",
    "\n",
    "widgets.VBox([oes_slider, oes_out, oes_burn_chart])"
   ]
  },
  {
   "cell_type": "markdown",
   "metadata": {},
   "source": [
    "## JHU Model\n",
    "PPE forecasting using Calcat population assumptions and burn rate assumptions obtained from Johns Hopkins University."
   ]
  },
  {
   "cell_type": "code",
   "execution_count": 9,
   "metadata": {},
   "outputs": [],
   "source": [
    "jhu_config = set_config(os.path.join(PATH, 'config/jhu'))\n",
    "jhu_restart = RestartModel(config='jhu', population='dict')\n",
    "jhu_model = jhu_restart.model\n",
    "\n",
    "jhu_burn_df = jhu_model.demand.demand_per_unit_map_dn_um.df\n",
    "jhu_burn_df.index.name = \"Population\"\n",
    "jhu_burn_chart = util.generate_group_bar_legend(jhu_model.demand.demand_per_unit_map_dn_um.df)\n",
    "\n",
    "jhu_burn_rates = qgrid.show_grid(jhu_burn_df)"
   ]
  },
  {
   "cell_type": "code",
   "execution_count": 10,
   "metadata": {},
   "outputs": [
    {
     "data": {
      "application/vnd.jupyter.widget-view+json": {
       "model_id": "343a76f7323149f783c9265f5bf252cc",
       "version_major": 2,
       "version_minor": 0
      },
      "text/plain": [
       "Button(description='Run Model', style=ButtonStyle())"
      ]
     },
     "metadata": {},
     "output_type": "display_data"
    },
    {
     "data": {
      "application/vnd.jupyter.widget-view+json": {
       "model_id": "cfb6e11738234041aa8a39f092a619c4",
       "version_major": 2,
       "version_minor": 0
      },
      "text/plain": [
       "VBox(children=(QgridWidget(grid_options={'fullWidthRows': True, 'syncColumnCellResize': True, 'forceFitColumns…"
      ]
     },
     "metadata": {},
     "output_type": "display_data"
    }
   ],
   "source": [
    "display(create_run_button(\"Run Model\"))\n",
    "widgets.VBox([jhu_burn_rates])"
   ]
  },
  {
   "cell_type": "code",
   "execution_count": 11,
   "metadata": {},
   "outputs": [
    {
     "data": {
      "application/vnd.jupyter.widget-view+json": {
       "model_id": "a4c83cd145e44f369ca3843eb0dfa424",
       "version_major": 2,
       "version_minor": 0
      },
      "text/plain": [
       "VBox(children=(FloatSlider(value=0.95, continuous_update=False, description='CR', max=0.99, min=0.7, step=0.01…"
      ]
     },
     "metadata": {},
     "output_type": "display_data"
    }
   ],
   "source": [
    "jhu_model.demand.adjust_burn(jhu_burn_rates.get_changed_df().to_numpy())\n",
    "\n",
    "jhu_epi_df = data.epi_ranges()\n",
    "jhu_epi_df.set_index('Model', drop=True, inplace=True)\n",
    "jhu_epi_df.drop(['CA Projected Non-COVID Patients'], axis=0, inplace=True)\n",
    "\n",
    "# adjusting so it's in terms of population, since we're not doing vents here\n",
    "jhu_epi_df = jhu_epi_df * 4.12\n",
    "jhu_epi_df.columns = ['Population Low', 'Population Mid', 'Population High']\n",
    "jhu_stdev = jhu_epi_df.apply(\n",
    "    lambda row: util.triangular(\n",
    "        row['Population Mid'],\n",
    "        row['Population Low'], \n",
    "        row['Population High']\n",
    "    ), axis=1\n",
    ")\n",
    "\n",
    "jhu_epi_df['Population Mean'] = jhu_epi_df.mean(axis=1)\n",
    "\n",
    "jhu_epi_df['Population SD'] = jhu_stdev\n",
    "\n",
    "\n",
    "def calc_eoq(df, cr):\n",
    "    Z=norm.ppf(cr)\n",
    "    df['Adjusted Population'] = df['Population Mean'] + (Z * df['Population SD'])\n",
    "    return df\n",
    "\n",
    "def display_jhu_eoq(cr, days):\n",
    "    # calculate the hospitalization EOQ\n",
    "    epi = calc_eoq(jhu_epi_df, cr)\n",
    "    eoq_df = 0.243 * epi\n",
    "    # adjusting the non-COVID patients\n",
    "    eoq_sheet = to_sheet(eoq_df)\n",
    "    display_population(eoq_sheet, round=True)\n",
    "    # calculate stockpile projections\n",
    "    preds_df = Data(\n",
    "        \"demand_by_pop_total_pn_tc\", jhu_config)\n",
    "    preds_df.array = (jhu_model.demand.demand_by_pop_per_person_pn_uc.array.T * jhu_epi_df[\"Adjusted Population\"].to_numpy().T).T\n",
    "    preds_df.array *= days\n",
    "    preds_df.df.rename({'Glove Pairs': 'Gloves'}, axis=1, inplace=True)\n",
    "    preds_sheet = to_sheet(preds_df.df)\n",
    "    chart = util.generate_group_bar_legend(preds_df.df, scientific_notation=True)\n",
    "    display_population(preds_sheet, round=True)\n",
    "    display(chart)\n",
    "    \n",
    "jhu_burn_sheet = format_population(to_sheet(jhu_model.demand.demand_per_unit_map_dn_um.df))\n",
    "\n",
    "jhu_cr_slider = widgets.FloatSlider(min=0.70,max=0.99,step=0.01,value=0.95, continuous_update=False, description=\"CR\")\n",
    "jhu_day_slider = widgets.IntSlider(min=1, max=120, value=30, continuous_update=False, description=\"Days\")\n",
    "jhu_out = widgets.interactive_output(display_jhu_eoq, {'cr': jhu_cr_slider, 'days': jhu_day_slider})\n",
    "widgets.VBox([jhu_cr_slider, jhu_day_slider, jhu_out, jhu_burn_chart])"
   ]
  },
  {
   "cell_type": "markdown",
   "metadata": {},
   "source": [
    "## Burn Rate Visualization\n",
    "Edit these tables to adjust assumptions, and scroll down for a detailed per-resource breakdown of burn rate across each model. We provide both bar graphs and a scatterplot view."
   ]
  },
  {
   "cell_type": "code",
   "execution_count": 12,
   "metadata": {},
   "outputs": [
    {
     "data": {
      "application/vnd.jupyter.widget-view+json": {
       "model_id": "3472211b4a8e4f2c9588a9bc34e253a2",
       "version_major": 2,
       "version_minor": 0
      },
      "text/plain": [
       "Button(description='Update Burn Rates', style=ButtonStyle())"
      ]
     },
     "metadata": {},
     "output_type": "display_data"
    },
    {
     "data": {
      "application/vnd.jupyter.widget-view+json": {
       "model_id": "0f4b8b3c66664eefa83ea4d4c9289bce",
       "version_major": 2,
       "version_minor": 0
      },
      "text/plain": [
       "VBox(children=(QgridWidget(grid_options={'fullWidthRows': True, 'syncColumnCellResize': True, 'forceFitColumns…"
      ]
     },
     "metadata": {},
     "output_type": "display_data"
    }
   ],
   "source": [
    "jhu_model.demand.demand_per_unit_map_dn_um.df.index.name = \"Population\"\n",
    "oes_model.demand.demand_per_unit_map_dn_um.df.index.name = \"Population\"\n",
    "model.demand.demand_per_unit_map_dn_um.df.index.name = \"Population\"\n",
    "\n",
    "jhu_dem = qgrid.show_grid(jhu_model.demand.demand_per_unit_map_dn_um.df)\n",
    "oes_dem = qgrid.show_grid(oes_model.demand.demand_per_unit_map_dn_um.df)\n",
    "ca_dem = qgrid.show_grid(model.demand.demand_per_unit_map_dn_um.df)\n",
    "\n",
    "display(create_run_button(\"Update Burn Rates\"))\n",
    "widgets.VBox([jhu_dem, oes_dem, ca_dem])"
   ]
  },
  {
   "cell_type": "code",
   "execution_count": 13,
   "metadata": {},
   "outputs": [],
   "source": [
    "jhu_model.demand.adjust_burn(jhu_dem.get_changed_df().to_numpy())\n",
    "oes_model.demand.adjust_burn(oes_dem.get_changed_df().to_numpy())\n",
    "model.demand.adjust_burn(ca_dem.get_changed_df().to_numpy())\n",
    "\n",
    "# rename so that resource names are consistent\n",
    "jhu_model.demand.demand_per_unit_map_dn_um.df.rename(\n",
    "    {'Glove Pairs': 'Gloves', 'Simple Masks': 'Non ASTM Mask'}, axis=1, inplace=True\n",
    ")\n",
    "model.demand.demand_per_unit_map_dn_um.df.rename(\n",
    "    {'Surgical Masks': 'ASTM 3 Mask'}, axis=1, inplace=True\n",
    ")\n",
    "\n",
    "oes_model.demand.demand_per_unit_map_dn_um.df['N95 Masks'] = (\n",
    "    oes_model.demand.demand_per_unit_map_dn_um.df['N95 Surgical'] + oes_model.demand.demand_per_unit_map_dn_um.df['N95 Non-surgical']\n",
    ")\n",
    "\n",
    "oes_model.demand.demand_per_unit_map_dn_um.df.drop(['N95 Surgical', 'N95 Non-surgical'], axis=1, inplace=True)\n",
    "model.demand.demand_per_unit_map_dn_um.df.drop(['Ventilators', 'PAPR', 'Coveralls'], axis=1, inplace=True)\n",
    "\n",
    "burn_summary_df = pd.concat([\n",
    "    jhu_model.demand.demand_per_unit_map_dn_um.df,\n",
    "    oes_model.demand.demand_per_unit_map_dn_um.df,\n",
    "    model.demand.demand_per_unit_map_dn_um.df\n",
    "])\n",
    "\n",
    "burn_summary_df.fillna(0, inplace=True)\n",
    "burn_summary_df.index.name = \"Model\"\n",
    "\n",
    "burn_summary_chart_list = util.generate_separate_bar_list(burn_summary_df)\n",
    "burn_summary_chart_legend = util.generate_html_legend(burn_summary_df)\n",
    "\n",
    "burn_summary_scatter_list = util.generate_separate_scatter_list(burn_summary_df)"
   ]
  },
  {
   "cell_type": "code",
   "execution_count": 14,
   "metadata": {},
   "outputs": [
    {
     "data": {
      "application/vnd.jupyter.widget-view+json": {
       "model_id": "d0b68e4db7754c80b7249f60bd2d279a",
       "version_major": 2,
       "version_minor": 0
      },
      "text/plain": [
       "Figure(axes=[Axis(scale=OrdinalScale(), tick_style={'font-size': '6'}), Axis(orientation='vertical', scale=Lin…"
      ]
     },
     "metadata": {},
     "output_type": "display_data"
    },
    {
     "data": {
      "application/vnd.jupyter.widget-view+json": {
       "model_id": "fbcd8a018e724d02825f2ae7107684f2",
       "version_major": 2,
       "version_minor": 0
      },
      "text/plain": [
       "Figure(axes=[Axis(scale=OrdinalScale(), tick_style={'font-size': '6'}), Axis(orientation='vertical', scale=Lin…"
      ]
     },
     "metadata": {},
     "output_type": "display_data"
    },
    {
     "data": {
      "application/vnd.jupyter.widget-view+json": {
       "model_id": "e99c97a9692c4f068418413d128aecb2",
       "version_major": 2,
       "version_minor": 0
      },
      "text/plain": [
       "HTML(value=\"<div style='font-size:13px; font-family:helvetica'><b style='font-weight:bold'>Model</b><table><tr…"
      ]
     },
     "metadata": {},
     "output_type": "display_data"
    }
   ],
   "source": [
    "display(burn_summary_chart_list[0], burn_summary_scatter_list[0], burn_summary_chart_legend)"
   ]
  },
  {
   "cell_type": "code",
   "execution_count": 15,
   "metadata": {},
   "outputs": [
    {
     "data": {
      "application/vnd.jupyter.widget-view+json": {
       "model_id": "802398a2935d4183a2b87a2fd83bcddc",
       "version_major": 2,
       "version_minor": 0
      },
      "text/plain": [
       "Figure(axes=[Axis(scale=OrdinalScale(), tick_style={'font-size': '6'}), Axis(orientation='vertical', scale=Lin…"
      ]
     },
     "metadata": {},
     "output_type": "display_data"
    },
    {
     "data": {
      "application/vnd.jupyter.widget-view+json": {
       "model_id": "555836c23c534126a4e8a34ff74c3e9d",
       "version_major": 2,
       "version_minor": 0
      },
      "text/plain": [
       "Figure(axes=[Axis(scale=OrdinalScale(), tick_style={'font-size': '6'}), Axis(orientation='vertical', scale=Lin…"
      ]
     },
     "metadata": {},
     "output_type": "display_data"
    },
    {
     "data": {
      "application/vnd.jupyter.widget-view+json": {
       "model_id": "e99c97a9692c4f068418413d128aecb2",
       "version_major": 2,
       "version_minor": 0
      },
      "text/plain": [
       "HTML(value=\"<div style='font-size:13px; font-family:helvetica'><b style='font-weight:bold'>Model</b><table><tr…"
      ]
     },
     "metadata": {},
     "output_type": "display_data"
    }
   ],
   "source": [
    "display(burn_summary_chart_list[1], burn_summary_scatter_list[1], burn_summary_chart_legend)"
   ]
  },
  {
   "cell_type": "code",
   "execution_count": 16,
   "metadata": {},
   "outputs": [
    {
     "data": {
      "application/vnd.jupyter.widget-view+json": {
       "model_id": "d65636eef544436eba44c65909403dd3",
       "version_major": 2,
       "version_minor": 0
      },
      "text/plain": [
       "Figure(axes=[Axis(scale=OrdinalScale(), tick_style={'font-size': '6'}), Axis(orientation='vertical', scale=Lin…"
      ]
     },
     "metadata": {},
     "output_type": "display_data"
    },
    {
     "data": {
      "application/vnd.jupyter.widget-view+json": {
       "model_id": "6ce38125dade4107bcb225f78406b99e",
       "version_major": 2,
       "version_minor": 0
      },
      "text/plain": [
       "Figure(axes=[Axis(scale=OrdinalScale(), tick_style={'font-size': '6'}), Axis(orientation='vertical', scale=Lin…"
      ]
     },
     "metadata": {},
     "output_type": "display_data"
    },
    {
     "data": {
      "application/vnd.jupyter.widget-view+json": {
       "model_id": "e99c97a9692c4f068418413d128aecb2",
       "version_major": 2,
       "version_minor": 0
      },
      "text/plain": [
       "HTML(value=\"<div style='font-size:13px; font-family:helvetica'><b style='font-weight:bold'>Model</b><table><tr…"
      ]
     },
     "metadata": {},
     "output_type": "display_data"
    }
   ],
   "source": [
    "display(burn_summary_chart_list[2], burn_summary_scatter_list[2], burn_summary_chart_legend)"
   ]
  },
  {
   "cell_type": "code",
   "execution_count": 17,
   "metadata": {},
   "outputs": [
    {
     "data": {
      "application/vnd.jupyter.widget-view+json": {
       "model_id": "6f3846f10eaf41dca30d4e7b71d2dae5",
       "version_major": 2,
       "version_minor": 0
      },
      "text/plain": [
       "Figure(axes=[Axis(scale=OrdinalScale(), tick_style={'font-size': '6'}), Axis(orientation='vertical', scale=Lin…"
      ]
     },
     "metadata": {},
     "output_type": "display_data"
    },
    {
     "data": {
      "application/vnd.jupyter.widget-view+json": {
       "model_id": "f629f48eb19e4e67934e9f0255fb9d79",
       "version_major": 2,
       "version_minor": 0
      },
      "text/plain": [
       "Figure(axes=[Axis(scale=OrdinalScale(), tick_style={'font-size': '6'}), Axis(orientation='vertical', scale=Lin…"
      ]
     },
     "metadata": {},
     "output_type": "display_data"
    },
    {
     "data": {
      "application/vnd.jupyter.widget-view+json": {
       "model_id": "e99c97a9692c4f068418413d128aecb2",
       "version_major": 2,
       "version_minor": 0
      },
      "text/plain": [
       "HTML(value=\"<div style='font-size:13px; font-family:helvetica'><b style='font-weight:bold'>Model</b><table><tr…"
      ]
     },
     "metadata": {},
     "output_type": "display_data"
    }
   ],
   "source": [
    "display(burn_summary_chart_list[3], burn_summary_scatter_list[3], burn_summary_chart_legend)"
   ]
  },
  {
   "cell_type": "code",
   "execution_count": 18,
   "metadata": {},
   "outputs": [
    {
     "data": {
      "application/vnd.jupyter.widget-view+json": {
       "model_id": "b11e3842eb694fafb02a9b254d55f5da",
       "version_major": 2,
       "version_minor": 0
      },
      "text/plain": [
       "Figure(axes=[Axis(scale=OrdinalScale()), Axis(orientation='vertical', scale=LinearScale(), tick_format='.1f')]…"
      ]
     },
     "metadata": {},
     "output_type": "display_data"
    },
    {
     "data": {
      "application/vnd.jupyter.widget-view+json": {
       "model_id": "c007ecf7eb0b40f49590ede05e4853b9",
       "version_major": 2,
       "version_minor": 0
      },
      "text/plain": [
       "Figure(axes=[Axis(scale=OrdinalScale()), Axis(orientation='vertical', scale=LinearScale(), tick_format='.1f')]…"
      ]
     },
     "metadata": {},
     "output_type": "display_data"
    },
    {
     "data": {
      "application/vnd.jupyter.widget-view+json": {
       "model_id": "e99c97a9692c4f068418413d128aecb2",
       "version_major": 2,
       "version_minor": 0
      },
      "text/plain": [
       "HTML(value=\"<div style='font-size:13px; font-family:helvetica'><b style='font-weight:bold'>Model</b><table><tr…"
      ]
     },
     "metadata": {},
     "output_type": "display_data"
    }
   ],
   "source": [
    "display(burn_summary_chart_list[5], burn_summary_scatter_list[5], burn_summary_chart_legend)"
   ]
  },
  {
   "cell_type": "code",
   "execution_count": 19,
   "metadata": {},
   "outputs": [
    {
     "data": {
      "application/vnd.jupyter.widget-view+json": {
       "model_id": "912c788a1a654033b0504a9191fbd64d",
       "version_major": 2,
       "version_minor": 0
      },
      "text/plain": [
       "Figure(axes=[Axis(scale=OrdinalScale(), tick_style={'font-size': '6'}), Axis(orientation='vertical', scale=Lin…"
      ]
     },
     "metadata": {},
     "output_type": "display_data"
    },
    {
     "data": {
      "application/vnd.jupyter.widget-view+json": {
       "model_id": "92d5e08cecac49a792bbddf74f193dd7",
       "version_major": 2,
       "version_minor": 0
      },
      "text/plain": [
       "Figure(axes=[Axis(scale=OrdinalScale(), tick_style={'font-size': '6'}), Axis(orientation='vertical', scale=Lin…"
      ]
     },
     "metadata": {},
     "output_type": "display_data"
    },
    {
     "data": {
      "application/vnd.jupyter.widget-view+json": {
       "model_id": "e99c97a9692c4f068418413d128aecb2",
       "version_major": 2,
       "version_minor": 0
      },
      "text/plain": [
       "HTML(value=\"<div style='font-size:13px; font-family:helvetica'><b style='font-weight:bold'>Model</b><table><tr…"
      ]
     },
     "metadata": {},
     "output_type": "display_data"
    }
   ],
   "source": [
    "display(burn_summary_chart_list[6], burn_summary_scatter_list[6], burn_summary_chart_legend)"
   ]
  },
  {
   "cell_type": "code",
   "execution_count": 20,
   "metadata": {},
   "outputs": [
    {
     "data": {
      "application/vnd.jupyter.widget-view+json": {
       "model_id": "19a5743ea0584ed5bf8647d1c02a5adf",
       "version_major": 2,
       "version_minor": 0
      },
      "text/plain": [
       "Figure(axes=[Axis(scale=OrdinalScale()), Axis(orientation='vertical', scale=LinearScale(), tick_format='.1f')]…"
      ]
     },
     "metadata": {},
     "output_type": "display_data"
    },
    {
     "data": {
      "application/vnd.jupyter.widget-view+json": {
       "model_id": "570f96bc39a14694ac74a2d6de9eb908",
       "version_major": 2,
       "version_minor": 0
      },
      "text/plain": [
       "Figure(axes=[Axis(scale=OrdinalScale()), Axis(orientation='vertical', scale=LinearScale(), tick_format='.1f')]…"
      ]
     },
     "metadata": {},
     "output_type": "display_data"
    },
    {
     "data": {
      "application/vnd.jupyter.widget-view+json": {
       "model_id": "e99c97a9692c4f068418413d128aecb2",
       "version_major": 2,
       "version_minor": 0
      },
      "text/plain": [
       "HTML(value=\"<div style='font-size:13px; font-family:helvetica'><b style='font-weight:bold'>Model</b><table><tr…"
      ]
     },
     "metadata": {},
     "output_type": "display_data"
    }
   ],
   "source": [
    "display(burn_summary_chart_list[7], burn_summary_scatter_list[7], burn_summary_chart_legend)"
   ]
  }
 ],
 "metadata": {
  "kernelspec": {
   "display_name": "Python 3",
   "language": "python",
   "name": "python3"
  },
  "language_info": {
   "codemirror_mode": {
    "name": "ipython",
    "version": 3
   },
   "file_extension": ".py",
   "mimetype": "text/x-python",
   "name": "python",
   "nbconvert_exporter": "python",
   "pygments_lexer": "ipython3",
   "version": "3.8.5"
  }
 },
 "nbformat": 4,
 "nbformat_minor": 4
}
